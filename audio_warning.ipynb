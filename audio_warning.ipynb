{
  "nbformat": 4,
  "nbformat_minor": 0,
  "metadata": {
    "colab": {
      "name": "audio_warning.ipynb",
      "provenance": [],
      "collapsed_sections": []
    },
    "kernelspec": {
      "name": "python3",
      "display_name": "Python 3"
    }
  },
  "cells": [
    {
      "cell_type": "markdown",
      "metadata": {
        "id": "PFSlv6LGUfba"
      },
      "source": [
        "Warning sound urls:\n",
        "*  https://actions.google.com/sounds/v1/alarms/digital_watch_alarm_long.ogg\n",
        "*  https://upload.wikimedia.org/wikipedia/commons/0/05/Beep-09.ogg\n",
        "*  https://actions.google.com/sounds/v1/alarms/spaceship_alarm.ogg\n",
        "\n",
        "\n",
        "Source :\n",
        "*  https://developers.google.com/assistant/tools/sound-library\n",
        "\n"
      ]
    },
    {
      "cell_type": "markdown",
      "metadata": {
        "id": "Zo2XNt-ETCaf"
      },
      "source": [
        "Méthode 1"
      ]
    },
    {
      "cell_type": "code",
      "metadata": {
        "id": "1QC0msG4QLkA"
      },
      "source": [
        "# Play an audio warning\n",
        "from google.colab import output\n",
        "output.eval_js('new Audio(\"https://actions.google.com/sounds/v1/alarms/bugle_tune.ogg\").play()')"
      ],
      "execution_count": null,
      "outputs": []
    },
    {
      "cell_type": "markdown",
      "metadata": {
        "id": "W8Xu5HscTFGL"
      },
      "source": [
        "Méthode 2"
      ]
    },
    {
      "cell_type": "code",
      "metadata": {
        "id": "Gp2iwtzSSaZK",
        "colab": {
          "base_uri": "https://localhost:8080/",
          "height": 75
        },
        "outputId": "4858a2ef-a75d-45fd-cdf5-00a1d33fa070"
      },
      "source": [
        "import IPython.display as display\n",
        "display.Audio(url=\"https://actions.google.com/sounds/v1/alarms/digital_watch_alarm_long.ogg\", autoplay=True)"
      ],
      "execution_count": null,
      "outputs": [
        {
          "output_type": "execute_result",
          "data": {
            "text/html": [
              "\n",
              "                <audio controls=\"controls\" autoplay=\"autoplay\">\n",
              "                    <source src=\"https://actions.google.com/sounds/v1/alarms/digital_watch_alarm_long.ogg\" type=\"audio/ogg\" />\n",
              "                    Your browser does not support the audio element.\n",
              "                </audio>\n",
              "              "
            ],
            "text/plain": [
              "<IPython.lib.display.Audio object>"
            ]
          },
          "metadata": {
            "tags": []
          },
          "execution_count": 2
        }
      ]
    }
  ]
}